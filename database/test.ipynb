{
 "cells": [
  {
   "cell_type": "code",
   "execution_count": 1,
   "metadata": {},
   "outputs": [],
   "source": [
    "import MySQLdb"
   ]
  },
  {
   "cell_type": "markdown",
   "metadata": {},
   "source": [
    "##### Creating connection to the database"
   ]
  },
  {
   "cell_type": "code",
   "execution_count": 93,
   "metadata": {},
   "outputs": [],
   "source": [
    "config = {\n",
    "    \"host\" : \"localhost\",\n",
    "    \"password\" : \"Mohan@9360\",\n",
    "    \"user\" : \"root\"\n",
    "}"
   ]
  },
  {
   "cell_type": "code",
   "execution_count": 94,
   "metadata": {},
   "outputs": [],
   "source": [
    "conn = MySQLdb.connect(**config)"
   ]
  },
  {
   "cell_type": "markdown",
   "metadata": {},
   "source": [
    "Displaying the databases"
   ]
  },
  {
   "cell_type": "code",
   "execution_count": 95,
   "metadata": {},
   "outputs": [
    {
     "name": "stdout",
     "output_type": "stream",
     "text": [
      "('challan_scanner',)\n",
      "('information_schema',)\n",
      "('mysql',)\n",
      "('performance_schema',)\n",
      "('sql_hr',)\n",
      "('sql_inventory',)\n",
      "('sql_invoicing',)\n",
      "('sql_store',)\n",
      "('store',)\n",
      "('sys',)\n"
     ]
    }
   ],
   "source": [
    "cursor = conn.cursor()\n",
    "query = \"show databases\"\n",
    "cursor.execute(query)\n",
    "for i in cursor:\n",
    "    print(i)"
   ]
  },
  {
   "cell_type": "code",
   "execution_count": 96,
   "metadata": {},
   "outputs": [],
   "source": [
    "config = {\n",
    "    \"host\" : \"localhost\",\n",
    "    \"password\" : \"Mohan@9360\",\n",
    "    \"user\" : \"root\" ,\n",
    "    \"db\" : \"challan_scanner\"\n",
    "}\n",
    "\n",
    "conn = MySQLdb.connect(**config)"
   ]
  },
  {
   "cell_type": "markdown",
   "metadata": {},
   "source": [
    "Dispalying the tables ina specific database"
   ]
  },
  {
   "cell_type": "code",
   "execution_count": 97,
   "metadata": {},
   "outputs": [],
   "source": [
    "cursor = conn.cursor()\n",
    "query = \"show tables\"\n",
    "cursor.execute(query)\n",
    "for i in cursor:\n",
    "    print(i)"
   ]
  },
  {
   "cell_type": "markdown",
   "metadata": {},
   "source": [
    "### Creating table"
   ]
  },
  {
   "cell_type": "code",
   "execution_count": 98,
   "metadata": {},
   "outputs": [],
   "source": [
    "query = \" create table IF NOT EXISTS info(ID int , Firstname varchar(100) , phone int , primary key(ID)) \"\n",
    "cursor.execute(query)\n",
    "conn.commit()"
   ]
  },
  {
   "cell_type": "markdown",
   "metadata": {},
   "source": [
    "### Alter default value"
   ]
  },
  {
   "cell_type": "code",
   "execution_count": 99,
   "metadata": {},
   "outputs": [],
   "source": [
    "query = \"ALTER TABLE info MODIFY COLUMN ID INT AUTO_INCREMENT  \"\n",
    "cursor.execute(query)\n",
    "conn.commit()"
   ]
  },
  {
   "cell_type": "markdown",
   "metadata": {},
   "source": [
    "### Insert values"
   ]
  },
  {
   "cell_type": "code",
   "execution_count": 100,
   "metadata": {},
   "outputs": [
    {
     "name": "stdout",
     "output_type": "stream",
     "text": [
      "(1, 'Mohan', 936054578)\n"
     ]
    }
   ],
   "source": [
    "query = \"INSERT INTO info(Firstname, phone) VALUES (%s, %s)\"\n",
    "values = (\"Mohan\", 936054578)\n",
    "cursor.execute(query, values)\n",
    "conn.commit()\n",
    "\n",
    "query = \"select * from info\"\n",
    "cursor.execute(query)\n",
    "for i in cursor:\n",
    "    print(i)"
   ]
  },
  {
   "cell_type": "markdown",
   "metadata": {},
   "source": [
    "#### Insert multiple values"
   ]
  },
  {
   "cell_type": "code",
   "execution_count": 101,
   "metadata": {},
   "outputs": [
    {
     "name": "stdout",
     "output_type": "stream",
     "text": [
      "(1, 'Mohan', 936054578)\n",
      "(2, 'pragadeesh', 942332343)\n",
      "(3, 'pugal', 234421244)\n"
     ]
    }
   ],
   "source": [
    "query = \"INSERT INTO info(firstname,phone) VALUES (%s,%s)\"\n",
    "values = [(\"pragadeesh\",942332343), (\"pugal\",234421244)]\n",
    "cursor.executemany(query,values)                          # Enecutemany is used\n",
    "\n",
    "conn.commit()\n",
    "\n",
    "query = \"select * from info\"\n",
    "cursor.execute(query)\n",
    "for i in cursor:\n",
    "    print(i)"
   ]
  },
  {
   "cell_type": "markdown",
   "metadata": {},
   "source": [
    "### Deleting rows"
   ]
  },
  {
   "cell_type": "code",
   "execution_count": 102,
   "metadata": {},
   "outputs": [
    {
     "name": "stdout",
     "output_type": "stream",
     "text": [
      "(2, 'pragadeesh', 942332343)\n",
      "(3, 'pugal', 234421244)\n"
     ]
    }
   ],
   "source": [
    "query = \"delete from info where Firstname = %s\"\n",
    "cursor.execute(query, (\"mohan\",))\n",
    "conn.commit()\n",
    "\n",
    "query = \"select * from info\"\n",
    "cursor.execute(query)\n",
    "for i in cursor:\n",
    "    print(i)"
   ]
  },
  {
   "cell_type": "markdown",
   "metadata": {},
   "source": [
    "### Drop table"
   ]
  },
  {
   "cell_type": "code",
   "execution_count": 103,
   "metadata": {},
   "outputs": [],
   "source": [
    "query = \"Drop table info\"\n",
    "cursor.execute(query)\n",
    "conn.commit()"
   ]
  },
  {
   "cell_type": "code",
   "execution_count": null,
   "metadata": {},
   "outputs": [],
   "source": []
  }
 ],
 "metadata": {
  "kernelspec": {
   "display_name": "Python 3",
   "language": "python",
   "name": "python3"
  },
  "language_info": {
   "codemirror_mode": {
    "name": "ipython",
    "version": 3
   },
   "file_extension": ".py",
   "mimetype": "text/x-python",
   "name": "python",
   "nbconvert_exporter": "python",
   "pygments_lexer": "ipython3",
   "version": "3.11.7"
  }
 },
 "nbformat": 4,
 "nbformat_minor": 2
}
