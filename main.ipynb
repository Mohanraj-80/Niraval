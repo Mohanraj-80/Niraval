{
 "cells": [
  {
   "cell_type": "code",
   "execution_count": 1,
   "metadata": {},
   "outputs": [
    {
     "name": "stdout",
     "output_type": "stream",
     "text": [
      "pygame 2.5.2 (SDL 2.28.3, Python 3.11.7)\n",
      "Hello from the pygame community. https://www.pygame.org/contribute.html\n"
     ]
    }
   ],
   "source": [
    "import scanimg\n",
    "import content_writer\n",
    "import tamil_amount_rocog_test\n",
    "from PIL import Image\n",
    "import cv2"
   ]
  },
  {
   "cell_type": "code",
   "execution_count": 2,
   "metadata": {},
   "outputs": [],
   "source": [
    "class Process:\n",
    "\n",
    "    def __init__(self) -> None:\n",
    "\n",
    "        depositChallanPath = r\"images\\deposit_challan.jpg\"\n",
    "        withdrawChallanPath = r\"images\\withdraw_challan.jpg\"\n",
    "\n",
    "        self.scanner = scanimg.Scanner()\n",
    "        self.tamil = tamil_amount_rocog_test.getAmountDetails()\n",
    "\n",
    "\n",
    "        self.writerDeposit = content_writer.writeDeposit(r\"images\\deposit_challan.jpg\")\n",
    "        self.writeWithdraw =content_writer.writeWithdraw(r\"images\\withdraw_challan.jpg\")\n",
    "\n",
    "        self.amount = 0\n",
    "       \n",
    "        self.isDeposit = True\n",
    "\n",
    "        self.info_dict = dict()\n",
    "\n",
    "    \n",
    "    def getImage(self):\n",
    "\n",
    "        imgPath= r\"\" + input(\"Enter the img path : \")\n",
    "        self.img = Image.open(imgPath)\n",
    "\n",
    "    def askMode(self):\n",
    "        print(\"Withdraw or Deposit\")\n",
    "        \n",
    "    def scanAndPrint(self):\n",
    "\n",
    "        print(\"Scanning the image....\\n\\n\")\n",
    "        \n",
    "        self.info_dict = self.scanner.scan(self.img)\n",
    "        print(\"Scanning successful\\n\\n\")\n",
    "       \n",
    "        print(\"************************************************************************************\")\n",
    "        print(\"\\n\\nscanned information\\n\\n\")\n",
    "        \n",
    "        for (key,value) in self.info_dict.items():\n",
    "            print(key , \" : \" , value)\n",
    "            tamil_amount_rocog_test.app.ChatBot.addAppMsg(f\"{key} : {value}\")\n",
    "\n",
    "\n",
    "    def getAmount(self):\n",
    "\n",
    "        self.info_dict[\"amount_list\"] = {2000: 0, 500: 0, 200: 0, 100: 0, 50: 0  }\n",
    "\n",
    "        self.tamil.amount = 0\n",
    "        self.amount = self.tamil.askAmount()\n",
    "        self.info_dict[\"amount\"] = self.amount\n",
    "\n",
    "        self.isDeposit = self.tamil.isDeposit()\n",
    "\n",
    "        if(self.isDeposit):\n",
    "            self.info_dict[\"amount_list\"] = self.tamil.askNoteCounts()\n",
    "\n",
    "    def writeChallan(self):\n",
    "\n",
    "        self.info_dict[\"amount_list\"][20] = 0 \n",
    "        self.info_dict[\"amount_list\"][10] = 0 \n",
    "        self.info_dict[\"amount_list\"][5]  = 0 \n",
    "        \n",
    "        if(self.isDeposit):\n",
    "            \n",
    "            written_challan = self.writerDeposit.write(self.info_dict)\n",
    "        \n",
    "        else:\n",
    "\n",
    "            written_challan = self.writeWithdraw.write(self.info_dict)\n",
    "\n",
    "        cv2.imshow(\"Challan\" , written_challan)\n",
    "        if(cv2.waitKey(0) & 0xFF == ord('q')):\n",
    "            cv2.destroyAllWindows()\n",
    "        cv2.destroyAllWindows() \n",
    "\n",
    "    def startchatbot(self):\n",
    "\n",
    "        self.tamil.startChatBot()\n",
    "    "
   ]
  },
  {
   "cell_type": "code",
   "execution_count": 3,
   "metadata": {},
   "outputs": [],
   "source": [
    "#Initilizing and importing the libraries\n",
    "flow = Process()"
   ]
  },
  {
   "cell_type": "code",
   "execution_count": 4,
   "metadata": {},
   "outputs": [
    {
     "name": "stdout",
     "output_type": "stream",
     "text": [
      "\n",
      " நிரவல் தங்களை அன்புடன் வரவேற்கிறது ! \n",
      "\n"
     ]
    }
   ],
   "source": [
    "#Starting GUI\n",
    "\n",
    "flow.startchatbot()"
   ]
  },
  {
   "cell_type": "code",
   "execution_count": 5,
   "metadata": {},
   "outputs": [],
   "source": [
    "# To give the image as input\n",
    "flow.getImage()"
   ]
  },
  {
   "cell_type": "code",
   "execution_count": 6,
   "metadata": {},
   "outputs": [
    {
     "name": "stdout",
     "output_type": "stream",
     "text": [
      "Scanning the image....\n",
      "\n",
      "\n",
      "Scanning successful\n",
      "\n",
      "\n",
      "************************************************************************************\n",
      "\n",
      "\n",
      "scanned information\n",
      "\n",
      "\n",
      "account no  :  110077739383\n",
      "phone  :  917810028722\n",
      "branch code  :  None\n",
      "name  :  PRAGATHEESH INDIRAN\n",
      "amount  :  0\n",
      "pan no  :  HPLPP3753G\n",
      "amount_list  :  {2000: 0, 500: 0, 200: 0, 100: 0, 50: 0}\n"
     ]
    }
   ],
   "source": [
    "# Extract and display the information from the given image\n",
    "flow.scanAndPrint()"
   ]
  },
  {
   "cell_type": "code",
   "execution_count": 7,
   "metadata": {},
   "outputs": [
    {
     "name": "stdout",
     "output_type": "stream",
     "text": [
      "\n",
      " மொத்தத் தொகையை சொல்லவும் \n",
      "\n",
      "....\n",
      "\n",
      "You said ta : 25000\n",
      "\n",
      "  நீங்கள் கூறிய தொகை 25000 , சரி என்றால் சரி அல்லது நன்று என்று சொல்லவும் ,தவறு என்றால் தவறு என்று சொல்லவும் \n",
      "\n",
      "....\n",
      "\n",
      "You said ta-IN : நன்று\n",
      "True\n",
      "\n",
      " பணம் செலுத்த வேண்டும் என்றால் சரி அல்லது நன்று  என சொல்லவும். \n",
      "\n",
      "....\n",
      "\n",
      "You said ta-IN : தவறு நடந்து போகணும்\n"
     ]
    }
   ],
   "source": [
    "# Get the amount from the user\n",
    "flow.getAmount()"
   ]
  },
  {
   "cell_type": "code",
   "execution_count": 8,
   "metadata": {},
   "outputs": [
    {
     "data": {
      "text/plain": [
       "{'account no': '110077739383',\n",
       " 'phone': '917810028722',\n",
       " 'branch code': None,\n",
       " 'name': 'PRAGATHEESH INDIRAN',\n",
       " 'amount': 25000,\n",
       " 'pan no': 'HPLPP3753G',\n",
       " 'amount_list': {2000: 10, 500: 10, 200: 0, 100: 0, 50: 0}}"
      ]
     },
     "execution_count": 8,
     "metadata": {},
     "output_type": "execute_result"
    }
   ],
   "source": [
    "# Voice + scan information\n",
    "flow.info_dict"
   ]
  },
  {
   "cell_type": "code",
   "execution_count": 8,
   "metadata": {},
   "outputs": [
    {
     "name": "stdout",
     "output_type": "stream",
     "text": [
      "Bye!\n"
     ]
    }
   ],
   "source": [
    "# Final ouptut\n",
    "flow.writeChallan()"
   ]
  },
  {
   "cell_type": "code",
   "execution_count": 10,
   "metadata": {},
   "outputs": [
    {
     "name": "stdout",
     "output_type": "stream",
     "text": [
      "\n",
      " நிரவலை பயன்படுத்தியதற்கு நன்றி \n",
      "\n"
     ]
    },
    {
     "name": "stdout",
     "output_type": "stream",
     "text": [
      "Bye!\n"
     ]
    }
   ],
   "source": [
    "# Greeting\n",
    "flow.tamil.say(\"நிரவலை பயன்படுத்தியதற்கு நன்றி\")"
   ]
  },
  {
   "cell_type": "code",
   "execution_count": null,
   "metadata": {},
   "outputs": [],
   "source": []
  }
 ],
 "metadata": {
  "kernelspec": {
   "display_name": "py10",
   "language": "python",
   "name": "python3"
  },
  "language_info": {
   "codemirror_mode": {
    "name": "ipython",
    "version": 3
   },
   "file_extension": ".py",
   "mimetype": "text/x-python",
   "name": "python",
   "nbconvert_exporter": "python",
   "pygments_lexer": "ipython3",
   "version": "3.11.7"
  }
 },
 "nbformat": 4,
 "nbformat_minor": 2
}
